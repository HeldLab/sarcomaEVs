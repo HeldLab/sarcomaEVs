{
 "cells": [
  {
   "cell_type": "markdown",
   "id": "6a4d0ab2-1e3a-41df-ac4f-4ffe333fa5f1",
   "metadata": {
    "tags": []
   },
   "source": [
    "#### For volcano plot (pre vs. post treatment in drug sensitive sarcoma patients) in Figure 5"
   ]
  },
  {
   "cell_type": "code",
   "execution_count": 47,
   "id": "435f3409-f31f-43ae-93ba-660601f44d31",
   "metadata": {},
   "outputs": [],
   "source": [
    "import numpy as np\n",
    "import pandas as pd\n",
    "import matplotlib\n",
    "import matplotlib.pyplot as plt\n",
    "from matplotlib.pyplot import *\n",
    "from matplotlib import colors\n",
    "import os\n",
    "from numpy import ma\n",
    "import seaborn as sns\n",
    "%matplotlib inline\n",
    "from scipy import stats\n",
    "from scipy.stats import zscore\n",
    "from sklearn.decomposition import PCA\n",
    "from natsort import natsorted\n",
    "import ipywidgets\n",
    "from glob import glob\n",
    "import logging\n",
    "import sys\n",
    "import pingouin as pg\n",
    "from statsmodels.stats.weightstats import ttest_ind\n",
    "from statistics import mean\n",
    "from scipy.stats import t"
   ]
  },
  {
   "cell_type": "code",
   "execution_count": 48,
   "id": "5cda038e-4da9-44d6-be09-37fa2d9abfd6",
   "metadata": {},
   "outputs": [],
   "source": [
    "# set working directory\n",
    "\n",
    "os.chdir('/Users/jasonheld/Manuscripts/2022_Sarcoma-Exosomes/Figure4 data_SenstiveResistant')"
   ]
  },
  {
   "cell_type": "code",
   "execution_count": null,
   "id": "fc173927-ba85-438b-a577-52b789635fa7",
   "metadata": {},
   "outputs": [],
   "source": [
    "# ProteinQuantitationWithSampleMetadata.xlsx is in the SarcomaEV github\n",
    "\n",
    "dfSarcoma = pd.read_excel('/Users/jasonheld/Manuscripts/2022_Sarcoma-Exosomes/vanTine_001_FinalDataWithControls/MQ/vanTine_001_90_samples/Protein/Model/ProteinQuantitationWithSampleMetadata.xlsx', sheet_name='Sheet1')"
   ]
  },
  {
   "cell_type": "code",
   "execution_count": 50,
   "id": "f883ed74-9d0f-4743-b3dd-f103b0cf6d3e",
   "metadata": {},
   "outputs": [],
   "source": [
    "parser = 'group'"
   ]
  },
  {
   "cell_type": "code",
   "execution_count": null,
   "id": "1958aad4-6ec3-41d5-8617-6086964f0008",
   "metadata": {},
   "outputs": [],
   "source": [
    "# Filter for the analysis\n",
    "\n",
    "df = dfSarcoma\n",
    "dataTypeFilter = 'NormalizedIntensity_Log2'\n",
    "    \n",
    "df = df.loc[:,~df.columns.str.contains('CON_')] # remove contaminants\n",
    "df = df.query(\"dataType == @dataTypeFilter\")\n",
    "\n",
    "df = df.query(\"timing != 'Control' and sensitivity == 'S'\") # sensitive\n",
    "\n",
    "totalCols = df.columns\n",
    "numCols = df._get_numeric_data().columns\n",
    "catCols = list(set(totalCols)-set(numCols))\n",
    "\n",
    "df = pd.melt(df,\n",
    "    id_vars = catCols,\n",
    "    value_vars = numCols,\n",
    "    var_name = 'protAcc',\n",
    "    value_name=\"area\",\n",
    "    ignore_index=False,\n",
    "    )\n",
    "\n",
    "#remove rows without areas & duplicates\n",
    "df.dropna(subset=['area'], inplace=True)\n",
    "df.drop_duplicates(inplace = True)\n",
    "\n",
    "# add a column specifying the dataset\n",
    "dataset = 'sarcoma'\n",
    "df.insert(loc=1, column='dataset', value=dataset)\n",
    "\n",
    "dfProtein = df"
   ]
  },
  {
   "cell_type": "markdown",
   "id": "9175dd1b-a145-4467-b92c-90c25251d425",
   "metadata": {},
   "source": [
    "#### annotate merged long/tidy data with uniprot IDs (or other metadata)"
   ]
  },
  {
   "cell_type": "code",
   "execution_count": null,
   "id": "1e32108e-dbc1-44fd-8ba2-c92714a15133",
   "metadata": {},
   "outputs": [],
   "source": [
    "# make dfUniprot for annotation, uniprotAnnotationsForFigure2.xlsx is on the SarcomaEV GitHub page\n",
    "\n",
    "dfUniprot = pd.read_excel('/Users/jasonheld/Manuscripts/2022_Sarcoma-Exosomes/Figure2_Data_CancerVsNormal/uniprotAnnotationsForFigure2.xlsx')\n",
    "dfUniprot = dfUniprot.rename(columns={'Entry' : 'protAcc'})\n",
    "dfUniprot = dfUniprot.rename(columns={'Gene Names (primary)' : 'geneNamePrimary'})\n",
    "dfUniprot = dfUniprot.drop(columns=['Length','Entry Name','Organism','Gene Names'])\n",
    "dfUniprot['protAcc'] = dfUniprot['protAcc'].astype(str)\n",
    "dfUniprot.drop_duplicates(subset=['protAcc'], inplace = True)"
   ]
  },
  {
   "cell_type": "code",
   "execution_count": 54,
   "id": "00f85887-51d4-47cb-be86-d87f15122509",
   "metadata": {},
   "outputs": [],
   "source": [
    "# annotate uniprot info\n",
    "dfMerged = dfProtein.merge(dfUniprot, on='protAcc', how='left')\n",
    "\n",
    "totalCols = dfMerged.columns\n",
    "numCols = dfMerged._get_numeric_data().columns\n",
    "catCols = list(set(totalCols)-set(numCols))\n",
    "\n",
    "dfMerged['area'] = dfMerged['area'].astype(float)"
   ]
  },
  {
   "cell_type": "code",
   "execution_count": 55,
   "id": "d3dc887d-30cc-4ef7-9a58-5a7cdb6d42fa",
   "metadata": {},
   "outputs": [],
   "source": [
    "# remove Remove 'crapome' proteins\n",
    "\n",
    "crapome =['KRT1', 'KRT2', 'KRT3', 'KRT4', 'KRT5', 'KRT6', 'KRT7', 'KRT8', 'KRT9', 'KRT10', 'KRT11', 'KRT12', 'KRT13', 'KRT14', 'KRT15', 'KRT16', 'KRT17', 'KRT18', 'KRT19', 'KRT20', 'KRT21', 'KRT22', 'KRT23', 'KRT24']\n",
    "\n",
    "dfMerged = dfMerged.loc[~dfMerged['geneNamePrimary'].str.contains('|'.join(crapome))]"
   ]
  },
  {
   "cell_type": "code",
   "execution_count": 56,
   "id": "d7ff7d7a-01ce-4066-8ebe-4c02ea311cf3",
   "metadata": {},
   "outputs": [],
   "source": [
    "# count protein IDs\n",
    "\n",
    "dfTemp = dfMerged\n",
    "\n",
    "nSamplesFilter = 10\n",
    "nSamplesControlOnlyFilter = 0\n",
    "    \n",
    "#drop 0 values\n",
    "dfTemp.dropna(subset = ['area'], inplace = True)\n",
    "\n",
    "# count\n",
    "dfTemp['nSamples'] = dfTemp.groupby('protAcc')['protAcc'].transform('count')\n",
    "nSamplesControlOnly = dfTemp.query('cancer == \"n\"').groupby('protAcc')['protAcc'].agg('count').to_frame()\n",
    "nSamplesControlOnly.rename(columns = {'protAcc' : 'nSamplesControlOnly'}, inplace = True)\n",
    "dfTemp = dfTemp.join(nSamplesControlOnly, on = 'protAcc')\n",
    "dfTemp['nSamplesControlOnly'] = dfTemp['nSamplesControlOnly'].fillna(0)\n",
    "\n",
    "# filter by N detections\n",
    "dfTemp = dfTemp.query('nSamples >= @nSamplesFilter')\n",
    "dfTemp = dfTemp.query('nSamplesControlOnly >= @nSamplesControlOnlyFilter')\n",
    "\n",
    "dfFiltered = dfTemp"
   ]
  },
  {
   "cell_type": "code",
   "execution_count": null,
   "id": "aada51ce-f8ab-454f-b1df-0fb26b26b40e",
   "metadata": {},
   "outputs": [],
   "source": [
    "# find and select data/feature columns\n",
    "\n",
    "totalCols = dfFiltered.columns\n",
    "numCols = dfFiltered._get_numeric_data().columns\n",
    "catCols = list(set(totalCols)-set(numCols))\n",
    "\n",
    "# pivot \n",
    "dfStatsPre = dfFiltered.pivot_table(\n",
    "    values = 'area',\n",
    "    index = [parser,'sample'],\n",
    "    columns = ['geneNamePrimary'],\n",
    ").reset_index().rename_axis(None, axis=1)\n",
    "dfStatsPre.set_index(parser, inplace = True)\n",
    "\n",
    "dfStatsPre.reset_index(inplace = True)\n",
    "sampleNames = dfStatsPre['sample']\n",
    "dfStatsPre = dfStatsPre.drop(columns = ['sample'])\n",
    "\n",
    "# impute nan to min value in column\n",
    "\n",
    "for col in dfStatsPre.columns:\n",
    "    dfStatsPre[col].fillna(value = dfStatsPre[col].min(), inplace = True)"
   ]
  },
  {
   "cell_type": "code",
   "execution_count": 58,
   "id": "77ef0aa5-9f34-4c7a-b241-e09aa0a1ad0d",
   "metadata": {},
   "outputs": [],
   "source": [
    "# melt\n",
    "dfStatsPre = dfStatsPre.melt(\n",
    "    id_vars = parser,\n",
    "    value_name = 'area',\n",
    "    var_name = 'geneNamePrimary',\n",
    ")"
   ]
  },
  {
   "cell_type": "code",
   "execution_count": 59,
   "id": "9aafeac1-439b-4ca4-8f1d-87d837eaa578",
   "metadata": {},
   "outputs": [],
   "source": [
    "# setup groups\n",
    "\n",
    "RPre = dfStatsPre.query('group == \"S.Post\"')\n",
    "SPre = dfStatsPre.query('group == \"S.Pre\"')"
   ]
  },
  {
   "cell_type": "code",
   "execution_count": null,
   "id": "5f7e80ac-54e7-4d8b-a684-efb2bc909438",
   "metadata": {},
   "outputs": [],
   "source": [
    "# make dfStats with pvals / qvals and other stats\n",
    "\n",
    "colName = 'geneNamePrimary'\n",
    "valueCol = 'area'\n",
    "\n",
    "# make a list of all genes\n",
    "allGenes = dfStatsPre['geneNamePrimary'].unique()\n",
    "\n",
    "# to make new dfStats\n",
    "dfStats = pd.DataFrame()\n",
    "geneNamePrimaryList = []\n",
    "group1List = []\n",
    "group2List = []\n",
    "oneGroupDetectionList = []\n",
    "group2DetectionOnlyList = []\n",
    "group1MeanList = []\n",
    "group2MeanList = []\n",
    "pvalScipyList = []\n",
    "pvalPingouinList = []\n",
    "pvalstatsmodelList = []\n",
    "\n",
    "for i in allGenes:\n",
    "    group1 = RPre.query(\"{0} == '{1}'\".format(colName, i))\n",
    "    group2 = SPre.query(\"{0} == '{1}'\".format(colName, i))\n",
    "    geneNamePrimaryList.append(i)\n",
    "\n",
    "    group1List.append(group1)\n",
    "    group2List.append(group2)\n",
    "    \n",
    "    if len(group1) < 2 or len(group2) < 2:\n",
    "        if len(group1) < 3:\n",
    "            oneGroupDetectionList.append('DetectedOnceOrLessInGroup1')\n",
    "            manualPvalList.append('')\n",
    "            pvalScipyList.append('')\n",
    "            group1MeanList.append('')\n",
    "            group2MeanList.append('')\n",
    "        elif len(group2) < 3:\n",
    "            oneGroupDetectionList.append('DetectedOnceOrLessInGroup2')\n",
    "            manualPvalList.append('')\n",
    "            pvalScipyList.append('')\n",
    "            group1MeanList.append('')\n",
    "            group2MeanList.append('')\n",
    "        continue\n",
    "    else:\n",
    "        oneGroupDetectionList.append('')\n",
    "        \n",
    "        mean1, mean2 = mean(group1[valueCol]), mean(group2[valueCol]) # calculate means\n",
    "        group1MeanList.append(mean1)\n",
    "        group2MeanList.append(mean2)\n",
    "\n",
    "        # scipy t-test\n",
    "        tstat, p = stats.ttest_ind(group1[valueCol], group2[valueCol], equal_var=False)\n",
    "        pvalScipyList.append(p)\n",
    "        display(p)\n",
    "\n",
    "dfStats['geneNamePrimary'] = geneNamePrimaryList\n",
    "dfStats['RPre'] = group1List\n",
    "dfStats['SPre'] = group2List\n",
    "dfStats['meanRPre']= group1MeanList\n",
    "dfStats['meanSPre']= group2MeanList\n",
    "dfStats['oneGroupDetection'] = oneGroupDetectionList\n",
    "dfStats['pvalScipy'] = pvalScipyList\n",
    "\n",
    "# define direction change\n",
    "dfStats['directionChange'] = np.where((dfStats['meanRPre'] > dfStats['meanSPre']), 'up', 'down')\n",
    "dfStats['directionChange'] = np.where(dfStats['oneGroupDetection'] == 'DetectedOnceOrLessInGroup1', 'down', dfStats['directionChange'])\n",
    "dfStats['directionChange'] = np.where(dfStats['oneGroupDetection'] == 'DetectedOnceOrLessInGroup2', 'up', dfStats['directionChange'])"
   ]
  },
  {
   "cell_type": "code",
   "execution_count": 61,
   "id": "48acc8b2-7737-4f34-a30f-0aaf0797de0e",
   "metadata": {},
   "outputs": [],
   "source": [
    "# drop missing values\n",
    "dfStats.dropna(subset=['pvalScipy'], inplace = True)"
   ]
  },
  {
   "cell_type": "markdown",
   "id": "738711e5-b7d5-4b7e-9672-dbd9b9523d76",
   "metadata": {
    "tags": []
   },
   "source": [
    "### BH FDR correction"
   ]
  },
  {
   "cell_type": "code",
   "execution_count": 62,
   "id": "89a72f1e-9513-47a8-91c3-a368ae02bb3f",
   "metadata": {},
   "outputs": [],
   "source": [
    "# Benjmani-hochburg correction\n",
    "from statsmodels.stats.multitest import multipletests\n",
    "\n",
    "# BH FDR correction with stats models\n",
    "scipyQvals = multipletests(dfStats.query(\"pvalScipy != ''\")['pvalScipy'], alpha=0.05, method=\"fdr_bh\")\n",
    "\n",
    "# rename column\n",
    "dfStats.loc[dfStats['pvalScipy'] != '', 'qvalScipy'] = scipyQvals[1]"
   ]
  },
  {
   "cell_type": "code",
   "execution_count": 63,
   "id": "8508a402-7beb-4439-9e2e-648d40b850a3",
   "metadata": {},
   "outputs": [],
   "source": [
    "# select significant proteins (FDR)\n",
    "\n",
    "dfStats['sigFDR'] = 'notSig'\n",
    "dfStats.loc[pd.isnull(dfStats['qvalScipy']), 'sigFDR'] = 'sig'\n",
    "dfStats.loc[dfStats['qvalScipy'] < 0.05, 'sigFDR'] = 'sig'\n",
    "\n",
    "# list of all significant genes\n",
    "geneNamePrimarySigAll = dfStats.query('sigFDR == \"sig\"')['geneNamePrimary'].tolist()"
   ]
  },
  {
   "cell_type": "code",
   "execution_count": null,
   "id": "22d58614-1448-4386-9a6b-bfc5bef2d200",
   "metadata": {},
   "outputs": [],
   "source": [
    "# some calulations needed for the volcano plot\n",
    "\n",
    "# calc ratios\n",
    "dfStats['FC_RPre:SPre'] = dfStats['meanRPre'] / dfStats['meanSPre']\n",
    "dfStats['log2FC_RPre:SPre'] = np.log2(dfStats['FC_RPre:SPre'])\n",
    "\n",
    "dfStats['FC_RPre:SPre'] = dfStats['meanRPre'] - dfStats['meanSPre']\n",
    "dfStats['log2FC_RPre:SPre'] = dfStats['FC_RPre:SPre']\n",
    "\n",
    "# -log10 q values\n",
    "dfStats['-log10qvalScipy'] = np.log10(dfStats['qvalScipy']).mul(-1)\n",
    "dfStats['-log10qvalScipyRank'] = dfStats['-log10qvalScipy'].rank(method = 'first', ascending = False)"
   ]
  },
  {
   "cell_type": "code",
   "execution_count": 66,
   "id": "c6d1aae8-c8f9-414a-a061-c1a8be26d149",
   "metadata": {},
   "outputs": [
    {
     "name": "stderr",
     "output_type": "stream",
     "text": [
      "/Users/jasonheld/Python/env_221209_3-10/lib/python3.10/site-packages/matplotlib/text.py:1437: FutureWarning: Calling float on a single element Series is deprecated and will raise a TypeError in the future. Use float(ser.iloc[0]) instead\n",
      "  x = float(self.convert_xunits(x))\n",
      "/Users/jasonheld/Python/env_221209_3-10/lib/python3.10/site-packages/matplotlib/text.py:1439: FutureWarning: Calling float on a single element Series is deprecated and will raise a TypeError in the future. Use float(ser.iloc[0]) instead\n",
      "  y = float(self.convert_yunits(y))\n",
      "/Users/jasonheld/Python/env_221209_3-10/lib/python3.10/site-packages/matplotlib/text.py:692: FutureWarning: Calling float on a single element Series is deprecated and will raise a TypeError in the future. Use float(ser.iloc[0]) instead\n",
      "  posx = float(self.convert_xunits(self._x))\n",
      "/Users/jasonheld/Python/env_221209_3-10/lib/python3.10/site-packages/matplotlib/text.py:693: FutureWarning: Calling float on a single element Series is deprecated and will raise a TypeError in the future. Use float(ser.iloc[0]) instead\n",
      "  posy = float(self.convert_yunits(self._y))\n",
      "/Users/jasonheld/Python/env_221209_3-10/lib/python3.10/site-packages/matplotlib/text.py:832: FutureWarning: Calling float on a single element Series is deprecated and will raise a TypeError in the future. Use float(ser.iloc[0]) instead\n",
      "  x = float(self.convert_xunits(self._x))\n",
      "/Users/jasonheld/Python/env_221209_3-10/lib/python3.10/site-packages/matplotlib/text.py:833: FutureWarning: Calling float on a single element Series is deprecated and will raise a TypeError in the future. Use float(ser.iloc[0]) instead\n",
      "  y = float(self.convert_yunits(self._y))\n"
     ]
    },
    {
     "data": {
      "image/png": "[encoded data removed]",
      "text/plain": [
       "<Figure size 400x400 with 1 Axes>"
      ]
     },
     "metadata": {},
     "output_type": "display_data"
    }
   ],
   "source": [
    "# make annotated volcano plot\n",
    "\n",
    "diffExprGeneList = dfStats[dfStats['-log10qvalScipyRank'] < 1.301]['geneNamePrimary'].to_list()\n",
    "diffExprGeneList.extend(dfStats[dfStats['log2FC_RPre:SPre'] < -1.5]['geneNamePrimary'].to_list())\n",
    "diffExprGeneList.extend(dfStats[dfStats['log2FC_RPre:SPre'] > 2.5]['geneNamePrimary'].to_list())\n",
    "\n",
    "mask = dfStats['geneNamePrimary'].isin(diffExprGeneList)\n",
    "annotations = diffExprGeneList\n",
    "\n",
    "diffExprGeneListAlt = dfStats[dfStats['-log10qvalScipyRank'] < 15]['geneNamePrimary'].to_list()\n",
    "diffExprGeneListAlt.extend(dfStats[dfStats['log2FC_RPre:SPre'] < -5]['geneNamePrimary'].to_list())\n",
    "diffExprGeneListAlt.extend(dfStats[dfStats['log2FC_RPre:SPre'] > 5]['geneNamePrimary'].to_list())\n",
    "\n",
    "if len(diffExprGeneList) > 40:\n",
    "    mask = dfStats['geneNamePrimary'].isin(diffExprGeneListAlt)\n",
    "    annotations = diffExprGeneListAlt\n",
    "\n",
    "plt.figure(figsize=(4,4))\n",
    "\n",
    "sns.scatterplot(data = dfStats.loc[mask],\n",
    "    x = 'log2FC_RPre:SPre',\n",
    "    y = '-log10qvalScipy',\n",
    "    size=5,\n",
    "    facecolor = 'red',\n",
    "    edgecolor = 'black',)\n",
    "\n",
    "for i in annotations:\n",
    "    plt.annotate(i,\n",
    "        (dfStats[dfStats.geneNamePrimary == i]['log2FC_RPre:SPre'],\n",
    "        dfStats[dfStats.geneNamePrimary == i]['-log10qvalScipy'],\n",
    "        )\n",
    "    ) \n",
    "\n",
    "sns.scatterplot(\n",
    "    data=dfStats,\n",
    "    x=\"log2FC_RPre:SPre\",\n",
    "    y=\"-log10qvalScipy\",\n",
    "    hue = 'sigFDR',\n",
    "    ).axhline(\n",
    "    1.3, color = 'darkgrey', linestyle = '--', linewidth=1)\n",
    "\n",
    "plt.legend(bbox_to_anchor=(1.5, .5), loc='center right', borderaxespad=0)\n",
    "\n",
    "plt.show()"
   ]
  },
  {
   "cell_type": "code",
   "execution_count": null,
   "id": "bbd6493d-f1aa-478b-962a-76d6cc5b7646",
   "metadata": {},
   "outputs": [],
   "source": []
  },
  {
   "cell_type": "code",
   "execution_count": null,
   "id": "c6f1aee2-60d0-42a6-99d2-612223973a49",
   "metadata": {},
   "outputs": [],
   "source": []
  },
  {
   "cell_type": "code",
   "execution_count": null,
   "id": "dacdcf87-bc49-483e-a8c5-093a78a7f05a",
   "metadata": {},
   "outputs": [],
   "source": []
  },
  {
   "cell_type": "code",
   "execution_count": null,
   "id": "e33ecba3-ee82-475e-9397-44076f17a440",
   "metadata": {},
   "outputs": [],
   "source": []
  },
  {
   "cell_type": "code",
   "execution_count": null,
   "id": "60250196-90c3-4469-901d-deb23e612a2d",
   "metadata": {},
   "outputs": [],
   "source": []
  },
  {
   "cell_type": "code",
   "execution_count": null,
   "id": "88ab04ed-0f2f-446c-bc6f-7ba22fca9cfd",
   "metadata": {},
   "outputs": [],
   "source": []
  }
 ],
 "metadata": {
  "kernelspec": {
   "display_name": "Python 3 (ipykernel)",
   "language": "python",
   "name": "python3"
  },
  "language_info": {
   "codemirror_mode": {
    "name": "ipython",
    "version": 3
   },
   "file_extension": ".py",
   "mimetype": "text/x-python",
   "name": "python",
   "nbconvert_exporter": "python",
   "pygments_lexer": "ipython3",
   "version": "3.10.9"
  }
 },
 "nbformat": 4,
 "nbformat_minor": 5
}
